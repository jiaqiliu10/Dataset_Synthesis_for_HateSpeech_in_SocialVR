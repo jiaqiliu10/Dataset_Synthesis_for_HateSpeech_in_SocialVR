{
 "cells": [
  {
   "cell_type": "code",
   "id": "initial_id",
   "metadata": {
    "collapsed": true,
    "ExecuteTime": {
     "end_time": "2025-03-07T00:49:58.261497Z",
     "start_time": "2025-03-07T00:49:58.257308Z"
    }
   },
   "source": [
    "import pandas as pd\n",
    "from transformers import AutoTokenizer, AutoModelForSequenceClassification\n",
    "import torch\n",
    "from data_splitting import X_train, y_train, X_val, y_val, X_test, y_test"
   ],
   "outputs": [],
   "execution_count": 3
  },
  {
   "metadata": {
    "ExecuteTime": {
     "end_time": "2025-03-07T00:50:13.023355Z",
     "start_time": "2025-03-07T00:50:13.018704Z"
    }
   },
   "cell_type": "code",
   "source": [
    "# check if GPU is available\n",
    "device = torch.device(\"cuda\" if torch.cuda.is_available() else \"cpu\")\n",
    "print(f\"Using device: {device}\")"
   ],
   "id": "dab93817fed45a45",
   "outputs": [
    {
     "name": "stdout",
     "output_type": "stream",
     "text": [
      "Using device: cuda\n"
     ]
    }
   ],
   "execution_count": 5
  },
  {
   "metadata": {
    "ExecuteTime": {
     "end_time": "2025-03-07T00:50:42.708682Z",
     "start_time": "2025-03-07T00:50:40.675193Z"
    }
   },
   "cell_type": "code",
   "source": [
    "# Load HateBERT model and tokenizer\n",
    "model_name = \"distilbert-base-uncased-finetuned-sst-2-english\"\n",
    "num_labels = 2  # hate or none-hate\n",
    "\n",
    "tokenizer = AutoTokenizer.from_pretrained(model_name)\n",
    "model = AutoModelForSequenceClassification.from_pretrained(model_name, num_labels=num_labels).to(device)"
   ],
   "id": "89658b08b2d836cb",
   "outputs": [
    {
     "name": "stderr",
     "output_type": "stream",
     "text": [
      "Special tokens have been added in the vocabulary, make sure the associated word embeddings are fine-tuned or trained.\n",
      "E:\\Python3.12\\Lib\\site-packages\\transformers\\modeling_utils.py:1435: FutureWarning: You are using `torch.load` with `weights_only=False` (the current default value), which uses the default pickle module implicitly. It is possible to construct malicious pickle data which will execute arbitrary code during unpickling (See https://github.com/pytorch/pytorch/blob/main/SECURITY.md#untrusted-models for more details). In a future release, the default value for `weights_only` will be flipped to `True`. This limits the functions that could be executed during unpickling. Arbitrary objects will no longer be allowed to be loaded via this mode unless they are explicitly allowlisted by the user via `torch.serialization.add_safe_globals`. We recommend you start setting `weights_only=True` for any use case where you don't have full control of the loaded file. Please open an issue on GitHub for any issues related to this experimental feature.\n",
      "  state_dict = torch.load(resolved_archive_file, map_location=\"cpu\")\n"
     ]
    }
   ],
   "execution_count": 6
  },
  {
   "metadata": {
    "ExecuteTime": {
     "end_time": "2025-02-16T01:08:54.434181Z",
     "start_time": "2025-02-16T01:08:54.427629Z"
    }
   },
   "cell_type": "code",
   "source": [
    "X_train = pd.DataFrame(X_train)\n",
    "X_val = pd.DataFrame(X_val)\n",
    "X_test = pd.DataFrame(X_test)\n",
    "\n",
    "X_train.columns = ['file name', 'message']\n",
    "X_val.columns = ['file name', 'message']\n",
    "X_test.columns = ['file name', 'message']\n",
    "\n",
    "X_train"
   ],
   "id": "d0c5f12e726482c",
   "outputs": [
    {
     "data": {
      "text/plain": [
       "             file name                                            message\n",
       "0   hate_video_130.wav  User1: I think you hate white people User2: I ...\n",
       "1      session_036.wav  User1: Hey, have you tried VR painting classes...\n",
       "2      session_028.wav  User1: Hey, have you tried virtual book clubs ...\n",
       "3     hate_video_2.wav  User1: One day, a nigger caught something in h...\n",
       "4      session_029.wav  User1: Hey, have you tried sharing VR travel e...\n",
       "..                 ...                                                ...\n",
       "75   hate_video_81.wav  User1: He's not fucking destroyed by me! Damn!...\n",
       "76     session_004.wav  User1: Hey, have you tried team-building exerc...\n",
       "77     session_010.wav  User1: Hey, have you tried VR storytelling ses...\n",
       "78  hate_video_118.wav  User1: You're a black nigger User2: No, you kn...\n",
       "79     session_019.wav  User1: Hey, have you tried discussing VR hardw...\n",
       "\n",
       "[80 rows x 2 columns]"
      ],
      "text/html": [
       "<div>\n",
       "<style scoped>\n",
       "    .dataframe tbody tr th:only-of-type {\n",
       "        vertical-align: middle;\n",
       "    }\n",
       "\n",
       "    .dataframe tbody tr th {\n",
       "        vertical-align: top;\n",
       "    }\n",
       "\n",
       "    .dataframe thead th {\n",
       "        text-align: right;\n",
       "    }\n",
       "</style>\n",
       "<table border=\"1\" class=\"dataframe\">\n",
       "  <thead>\n",
       "    <tr style=\"text-align: right;\">\n",
       "      <th></th>\n",
       "      <th>file name</th>\n",
       "      <th>message</th>\n",
       "    </tr>\n",
       "  </thead>\n",
       "  <tbody>\n",
       "    <tr>\n",
       "      <th>0</th>\n",
       "      <td>hate_video_130.wav</td>\n",
       "      <td>User1: I think you hate white people User2: I ...</td>\n",
       "    </tr>\n",
       "    <tr>\n",
       "      <th>1</th>\n",
       "      <td>session_036.wav</td>\n",
       "      <td>User1: Hey, have you tried VR painting classes...</td>\n",
       "    </tr>\n",
       "    <tr>\n",
       "      <th>2</th>\n",
       "      <td>session_028.wav</td>\n",
       "      <td>User1: Hey, have you tried virtual book clubs ...</td>\n",
       "    </tr>\n",
       "    <tr>\n",
       "      <th>3</th>\n",
       "      <td>hate_video_2.wav</td>\n",
       "      <td>User1: One day, a nigger caught something in h...</td>\n",
       "    </tr>\n",
       "    <tr>\n",
       "      <th>4</th>\n",
       "      <td>session_029.wav</td>\n",
       "      <td>User1: Hey, have you tried sharing VR travel e...</td>\n",
       "    </tr>\n",
       "    <tr>\n",
       "      <th>...</th>\n",
       "      <td>...</td>\n",
       "      <td>...</td>\n",
       "    </tr>\n",
       "    <tr>\n",
       "      <th>75</th>\n",
       "      <td>hate_video_81.wav</td>\n",
       "      <td>User1: He's not fucking destroyed by me! Damn!...</td>\n",
       "    </tr>\n",
       "    <tr>\n",
       "      <th>76</th>\n",
       "      <td>session_004.wav</td>\n",
       "      <td>User1: Hey, have you tried team-building exerc...</td>\n",
       "    </tr>\n",
       "    <tr>\n",
       "      <th>77</th>\n",
       "      <td>session_010.wav</td>\n",
       "      <td>User1: Hey, have you tried VR storytelling ses...</td>\n",
       "    </tr>\n",
       "    <tr>\n",
       "      <th>78</th>\n",
       "      <td>hate_video_118.wav</td>\n",
       "      <td>User1: You're a black nigger User2: No, you kn...</td>\n",
       "    </tr>\n",
       "    <tr>\n",
       "      <th>79</th>\n",
       "      <td>session_019.wav</td>\n",
       "      <td>User1: Hey, have you tried discussing VR hardw...</td>\n",
       "    </tr>\n",
       "  </tbody>\n",
       "</table>\n",
       "<p>80 rows × 2 columns</p>\n",
       "</div>"
      ]
     },
     "execution_count": 100,
     "metadata": {},
     "output_type": "execute_result"
    }
   ],
   "execution_count": 100
  },
  {
   "metadata": {
    "ExecuteTime": {
     "end_time": "2025-02-16T01:08:54.595082Z",
     "start_time": "2025-02-16T01:08:54.493872Z"
    }
   },
   "cell_type": "code",
   "source": [
    "from datasets import Dataset\n",
    "\n",
    "# 构造 DataFrame\n",
    "train_df = pd.DataFrame({\"text\": X_train[\"message\"], \"labels\": y_train})\n",
    "val_df = pd.DataFrame({\"text\": X_val[\"message\"], \"labels\": y_val})\n",
    "test_df = pd.DataFrame({\"text\": X_test[\"message\"], \"labels\": y_test})\n",
    "\n",
    "# 转换为 Hugging Face Dataset\n",
    "train_dataset = Dataset.from_pandas(train_df)\n",
    "val_dataset = Dataset.from_pandas(val_df)\n",
    "test_dataset = Dataset.from_pandas(test_df)\n",
    "\n",
    "# Tokenization text data\n",
    "def tokenize_function(examples):\n",
    "    return tokenizer(examples['text'], truncation=True, padding=\"max_length\", max_length=512, return_tensors=\"pt\")\n",
    "\n",
    "# 批量处理数据\n",
    "train_dataset = train_dataset.map(tokenize_function, batched=True)\n",
    "val_dataset = val_dataset.map(tokenize_function, batched=True)\n",
    "test_dataset = test_dataset.map(tokenize_function, batched=True)\n",
    "\n",
    "# train_data_vec = X_train['message'].apply(preprocess_data)\n",
    "# val_data_vec = X_val['message'].map(preprocess_data)\n",
    "# test_data_vec = X_test['message'].map(preprocess_data)\n",
    "\n",
    "print(train_dataset)"
   ],
   "id": "50a245393c74a99a",
   "outputs": [
    {
     "name": "stderr",
     "output_type": "stream",
     "text": [
      "Map: 100%|██████████| 80/80 [00:00<00:00, 2120.95 examples/s]\n",
      "Map: 100%|██████████| 10/10 [00:00<00:00, 1991.31 examples/s]\n",
      "Map: 100%|██████████| 10/10 [00:00<00:00, 1666.92 examples/s]"
     ]
    },
    {
     "name": "stdout",
     "output_type": "stream",
     "text": [
      "Dataset({\n",
      "    features: ['text', 'labels', 'input_ids', 'token_type_ids', 'attention_mask'],\n",
      "    num_rows: 80\n",
      "})\n"
     ]
    },
    {
     "name": "stderr",
     "output_type": "stream",
     "text": [
      "\n"
     ]
    }
   ],
   "execution_count": 101
  },
  {
   "metadata": {
    "ExecuteTime": {
     "end_time": "2025-02-16T01:08:54.678450Z",
     "start_time": "2025-02-16T01:08:54.619076Z"
    }
   },
   "cell_type": "code",
   "source": [
    "# 转换为 PyTorch dataset\n",
    "def convert_to_torch(data):\n",
    "    return {key: torch.tensor(val) for key, val in data.items() if key in [\"input_ids\", \"attention_mask\", \"labels\"]}\n",
    "\n",
    "train_dataset = list(map(convert_to_torch, train_dataset))\n",
    "val_dataset = list(map(convert_to_torch, val_dataset))\n",
    "test_dataset = list(map(convert_to_torch, test_dataset))\n",
    "\n",
    "\n",
    "# 创建 PyTorch DataLoader\n",
    "from torch.utils.data import DataLoader\n",
    "\n",
    "train_dataloader = DataLoader(train_dataset, batch_size=2, shuffle=True)\n",
    "val_dataloader = DataLoader(val_dataset, batch_size=2)"
   ],
   "id": "497ac91a59cef479",
   "outputs": [],
   "execution_count": 102
  },
  {
   "metadata": {
    "ExecuteTime": {
     "end_time": "2025-02-16T01:08:54.688155Z",
     "start_time": "2025-02-16T01:08:54.683062Z"
    }
   },
   "cell_type": "code",
   "source": [
    "# 检查一下\n",
    "\n",
    "for batch in train_dataloader:\n",
    "    print(batch.keys())  # 确保 `labels` 存在\n",
    "    print(\"Batch labels:\", batch[\"labels\"])  # 打印部分 labels\n",
    "    print(\"Unique labels:\", torch.unique(batch[\"labels\"]))  # 查看标签的唯一值\n",
    "    break\n",
    "\n",
    "import numpy as np\n",
    "\n",
    "train_labels = np.array([ex[\"labels\"] for ex in train_dataset])\n",
    "val_labels = np.array([ex[\"labels\"] for ex in val_dataset])\n",
    "\n",
    "print(\"Train label distribution:\", np.bincount(train_labels))\n",
    "print(\"Val label distribution:\", np.bincount(val_labels))"
   ],
   "id": "d2a3c92245806bc5",
   "outputs": [
    {
     "name": "stdout",
     "output_type": "stream",
     "text": [
      "dict_keys(['labels', 'input_ids', 'attention_mask'])\n",
      "Batch labels: tensor([1, 1])\n",
      "Unique labels: tensor([1])\n",
      "Train label distribution: [40 40]\n",
      "Val label distribution: [5 5]\n"
     ]
    }
   ],
   "execution_count": 103
  },
  {
   "metadata": {
    "ExecuteTime": {
     "end_time": "2025-02-16T01:12:00.508058Z",
     "start_time": "2025-02-16T01:12:00.447415Z"
    }
   },
   "cell_type": "code",
   "source": [
    "# 设置训练轮数\n",
    "epoch_num = 3\n",
    "\n",
    "# 设置优化器 (AdamW) 和学习率调度器\n",
    "# AdamW 是 transformers 推荐的优化器,线性学习率调度器可防止模型训练过快导致不稳定\n",
    "from transformers import get_scheduler\n",
    "from torch.optim import AdamW\n",
    "\n",
    "optimizer = AdamW(model.parameters(), lr=0.01)\n",
    "num_training_steps = len(train_dataloader) * epoch_num  # 训练 3 轮\n",
    "lr_scheduler = get_scheduler(\"linear\", optimizer=optimizer, num_warmup_steps=0, num_training_steps=num_training_steps)\n"
   ],
   "id": "eebbdbcd7012afca",
   "outputs": [],
   "execution_count": 109
  },
  {
   "metadata": {
    "ExecuteTime": {
     "end_time": "2025-02-16T01:18:35.022096Z",
     "start_time": "2025-02-16T01:18:35.017523Z"
    }
   },
   "cell_type": "code",
   "source": [
    "print(len(train_dataset))\n",
    "print(len(val_dataset))"
   ],
   "id": "dfb98bc579314979",
   "outputs": [
    {
     "name": "stdout",
     "output_type": "stream",
     "text": [
      "80\n",
      "10\n"
     ]
    }
   ],
   "execution_count": 112
  },
  {
   "metadata": {
    "ExecuteTime": {
     "end_time": "2025-02-16T01:18:34.955848Z",
     "start_time": "2025-02-16T01:12:01.747314Z"
    }
   },
   "cell_type": "code",
   "source": [
    "# 微调模型的 classifier 层\n",
    "from tqdm import tqdm\n",
    "from matplotlib import pyplot as plt\n",
    "\n",
    "# 初始化存储训练和验证准确率的列表\n",
    "train_accuracies = []\n",
    "val_accuracies = []\n",
    "epochs = epoch_num  # 训练轮数\n",
    "\n",
    "# 训练 Loop\n",
    "for epoch in range(epochs):\n",
    "\n",
    "    model.train()\n",
    "\n",
    "    correct_train = 0\n",
    "    total_train = len(train_dataset)\n",
    "    loop = tqdm(train_dataloader, leave=True)\n",
    "\n",
    "    for batch in loop:\n",
    "        batch = {key: val.to(device) for key, val in batch.items()}\n",
    "\n",
    "        # print(batch['labels'])\n",
    "\n",
    "        optimizer.zero_grad()\n",
    "        outputs = model(**batch)\n",
    "        loss = outputs.loss\n",
    "        loss.backward()\n",
    "        optimizer.step()\n",
    "\n",
    "        # 计算训练集准确率\n",
    "        preds = torch.argmax(outputs.logits, dim=-1)\n",
    "        correct_train += (preds == batch[\"labels\"]).sum().item()\n",
    "\n",
    "        # total_train += batch[\"labels\"].size(0)\n",
    "\n",
    "    train_acc = correct_train / total_train\n",
    "    train_accuracies.append(train_acc)\n",
    "\n",
    "    # 计算验证集准确率\n",
    "    model.eval()\n",
    "    correct_val = 0\n",
    "    total_val = len(val_dataset)\n",
    "\n",
    "    with torch.no_grad():\n",
    "        for batch in val_dataloader:\n",
    "            batch = {key: val.to(device) for key, val in batch.items()}\n",
    "\n",
    "            outputs = model(**batch)\n",
    "\n",
    "            preds = torch.argmax(outputs.logits, dim=-1)\n",
    "            correct_val += (preds == batch[\"labels\"]).sum().item()\n",
    "\n",
    "            # total_val += batch[\"labels\"].size(0)\n",
    "\n",
    "    val_acc = correct_val / total_val\n",
    "    val_accuracies.append(val_acc)\n",
    "\n",
    "    print(f\"Epoch {epoch+1}/{epochs} - Train Acc: {train_acc:.4f} - Val Acc: {val_acc:.4f}\")\n",
    "\n",
    "# 绘制训练和验证准确率曲线\n",
    "plt.figure(figsize=(8, 5))\n",
    "plt.plot(range(1, epochs+1), train_accuracies, label=\"Train Accuracy\", marker='o')\n",
    "plt.plot(range(1, epochs+1), val_accuracies, label=\"Validation Accuracy\", marker='s')\n",
    "plt.xlabel(\"Epoch\")\n",
    "plt.ylabel(\"Accuracy\")\n",
    "plt.title(\"Train vs Validation Accuracy\")\n",
    "plt.legend()\n",
    "plt.grid(True)\n",
    "plt.show()\n",
    "\n",
    "# for epoch in range(epochs):\n",
    "#     loop = tqdm(train_dataloader, leave=True)\n",
    "#     for batch in loop:\n",
    "#         batch = {key: val.to(device) for key, val in batch.items()}  # 移动到 GPU/CPU\n",
    "#\n",
    "#         optimizer.zero_grad()\n",
    "#         outputs = model(**batch)  # 前向传播\n",
    "#         loss = outputs.loss  # 计算损失\n",
    "#         loss.backward()  # 反向传播\n",
    "#         optimizer.step()  # 更新参数\n",
    "#         lr_scheduler.step()  # 调整学习率\n",
    "#\n",
    "#         loop.set_description(f\"Epoch {epoch+1}\")\n",
    "#         loop.set_postfix(loss=loss.item())"
   ],
   "id": "259dd5ebb06bf6",
   "outputs": [
    {
     "name": "stderr",
     "output_type": "stream",
     "text": [
      "100%|██████████| 40/40 [02:20<00:00,  3.51s/it]\n"
     ]
    },
    {
     "name": "stdout",
     "output_type": "stream",
     "text": [
      "Epoch 1/3 - Train Acc: 0.5000 - Val Acc: 0.5000\n"
     ]
    },
    {
     "name": "stderr",
     "output_type": "stream",
     "text": [
      "100%|██████████| 40/40 [02:08<00:00,  3.21s/it]\n"
     ]
    },
    {
     "name": "stdout",
     "output_type": "stream",
     "text": [
      "Epoch 2/3 - Train Acc: 0.5500 - Val Acc: 0.5000\n"
     ]
    },
    {
     "name": "stderr",
     "output_type": "stream",
     "text": [
      "100%|██████████| 40/40 [01:57<00:00,  2.94s/it]\n"
     ]
    },
    {
     "name": "stdout",
     "output_type": "stream",
     "text": [
      "Epoch 3/3 - Train Acc: 0.4250 - Val Acc: 0.5000\n"
     ]
    },
    {
     "data": {
      "text/plain": [
       "<Figure size 800x500 with 1 Axes>"
      ],
      "image/png": "[encoded data removed]"
     },
     "metadata": {},
     "output_type": "display_data"
    }
   ],
   "execution_count": 111
  },
  {
   "metadata": {},
   "cell_type": "code",
   "outputs": [],
   "execution_count": null,
   "source": "",
   "id": "24847347cd510bdc"
  }
 ],
 "metadata": {
  "kernelspec": {
   "display_name": "Python 3",
   "language": "python",
   "name": "python3"
  },
  "language_info": {
   "codemirror_mode": {
    "name": "ipython",
    "version": 2
   },
   "file_extension": ".py",
   "mimetype": "text/x-python",
   "name": "python",
   "nbconvert_exporter": "python",
   "pygments_lexer": "ipython2",
   "version": "2.7.6"
  }
 },
 "nbformat": 4,
 "nbformat_minor": 5
}
